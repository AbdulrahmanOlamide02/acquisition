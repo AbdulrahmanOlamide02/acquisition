{
 "cells": [
  {
   "cell_type": "code",
   "execution_count": 4,
   "id": "9a620711",
   "metadata": {},
   "outputs": [],
   "source": [
    "import random"
   ]
  },
  {
   "cell_type": "code",
   "execution_count": 5,
   "id": "40d4cb66",
   "metadata": {},
   "outputs": [],
   "source": [
    "def club ():\n",
    "    \n",
    "    premership=[\"arsenal\",\"man u\",\"chelsea\",\"liverpool\"]\n",
    "    laliga=[\"barcelona\",\"madrid\",\"levante\",\"espanol\"]\n",
    "    seriaA=[\"juventus\",\"roma\",\"inter\",\"ac milan\"]\n",
    "    groupA=[]\n",
    "    groupB=[]\n",
    "    groupC=[]\n",
    "    groupD=[]\n",
    "    for i in [groupA,groupB,groupC,groupD]:\n",
    "        item1A = random.choice(premership)\n",
    "        i.append(item1A)\n",
    "        premership.remove(item1A)\n",
    "        item2A = random.choice(laliga)\n",
    "        i.append(item2A)\n",
    "        laliga.remove(item2A)\n",
    "        item3A = random.choice(seriaA)\n",
    "        i.append(item3A)\n",
    "        seriaA.remove(item3A)\n",
    "    return groupA,groupB,groupC,groupD\n",
    "    \n",
    "            \n",
    "            \n",
    "            \n",
    "    \n",
    "    \n",
    "    \n"
   ]
  },
  {
   "cell_type": "code",
   "execution_count": 6,
   "id": "b0b57f83",
   "metadata": {},
   "outputs": [
    {
     "name": "stdout",
     "output_type": "stream",
     "text": [
      "(['man u', 'levante', 'juventus'], ['liverpool', 'barcelona', 'roma'], ['chelsea', 'madrid', 'inter'], ['arsenal', 'espanol', 'ac milan'])\n"
     ]
    }
   ],
   "source": [
    "print(club())"
   ]
  },
  {
   "cell_type": "code",
   "execution_count": 7,
   "id": "3d061ea9",
   "metadata": {},
   "outputs": [
    {
     "name": "stdout",
     "output_type": "stream",
     "text": [
      "['chelsea', 'barcelona', 'inter']\n",
      "['arsenal', 'espanol', 'roma']\n",
      "['man u', 'madrid', 'juventus']\n",
      "['liverpool', 'levante', 'ac milan']\n"
     ]
    }
   ],
   "source": [
    "premership=[\"arsenal\",\"man u\",\"chelsea\",\"liverpool\"]\n",
    "laliga=[\"barcelona\",\"madrid\",\"levante\",\"espanol\"]\n",
    "seriaA=[\"juventus\",\"roma\",\"inter\",\"ac milan\"]\n",
    "groupA=[]\n",
    "groupB=[]\n",
    "groupC=[]\n",
    "groupD=[]\n",
    "for i in [groupA,groupB,groupC,groupD]:\n",
    "        item1A = random.choice(premership)\n",
    "        i.append(item1A)\n",
    "        premership.remove(item1A)\n",
    "        item2A = random.choice(laliga)\n",
    "        i.append(item2A)\n",
    "        laliga.remove(item2A)\n",
    "        item3A = random.choice(seriaA)\n",
    "        i.append(item3A)\n",
    "        seriaA.remove(item3A)\n",
    "        print(i)\n",
    "    \n",
    "\n",
    "    \n",
    "    "
   ]
  }
 ],
 "metadata": {
  "kernelspec": {
   "display_name": "Python 3",
   "language": "python",
   "name": "python3"
  },
  "language_info": {
   "codemirror_mode": {
    "name": "ipython",
    "version": 3
   },
   "file_extension": ".py",
   "mimetype": "text/x-python",
   "name": "python",
   "nbconvert_exporter": "python",
   "pygments_lexer": "ipython3",
   "version": "3.8.8"
  }
 },
 "nbformat": 4,
 "nbformat_minor": 5
}
