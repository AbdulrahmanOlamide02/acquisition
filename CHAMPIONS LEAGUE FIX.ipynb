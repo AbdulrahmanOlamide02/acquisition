{
 "cells": [
  {
   "cell_type": "code",
   "execution_count": 1,
   "id": "9a620711",
   "metadata": {},
   "outputs": [],
   "source": [
    "import random"
   ]
  },
  {
   "cell_type": "code",
   "execution_count": 43,
   "id": "40d4cb66",
   "metadata": {},
   "outputs": [],
   "source": [
    "def club ():\n",
    "    \n",
    "    premership=[\"arsenal\",\"man u\",\"chelsea\",\"liverpool\"]\n",
    "    laliga=[\"barcelona\",\"madrid\",\"levante\",\"espanol\"]\n",
    "    seriaA=[\"juventus\",\"roma\",\"inter\",\"ac milan\"]\n",
    "    groupA=[]\n",
    "    groupB=[]\n",
    "    groupC=[]\n",
    "    groupD=[]\n",
    "    for i in [groupA,groupB,groupC,groupD]:\n",
    "        item1A = random.choice(premership)\n",
    "        i.append(item1A)\n",
    "        premership.remove(item1A)\n",
    "        item2A = random.choice(laliga)\n",
    "        i.append(item2A)\n",
    "        laliga.remove(item2A)\n",
    "        item3A = random.choice(seriaA)\n",
    "        i.append(item3A)\n",
    "        seriaA.remove(item3A)\n",
    "    return groupA,groupB,groupC,groupD\n",
    "    \n",
    "            \n",
    "            \n",
    "            \n",
    "    \n",
    "    \n",
    "    \n"
   ]
  },
  {
   "cell_type": "code",
   "execution_count": 45,
   "id": "b0b57f83",
   "metadata": {},
   "outputs": [
    {
     "name": "stdout",
     "output_type": "stream",
     "text": [
      "(['man u', 'madrid', 'roma'], ['arsenal', 'barcelona', 'inter'], ['chelsea', 'levante', 'ac milan'], ['liverpool', 'espanol', 'juventus'])\n"
     ]
    }
   ],
   "source": [
    "print(club())"
   ]
  },
  {
   "cell_type": "code",
   "execution_count": 1,
   "id": "3d061ea9",
   "metadata": {},
   "outputs": [
    {
     "ename": "NameError",
     "evalue": "name 'random' is not defined",
     "output_type": "error",
     "traceback": [
      "\u001b[1;31m---------------------------------------------------------------------------\u001b[0m",
      "\u001b[1;31mNameError\u001b[0m                                 Traceback (most recent call last)",
      "\u001b[1;32m<ipython-input-1-ee67ea522bf3>\u001b[0m in \u001b[0;36m<module>\u001b[1;34m\u001b[0m\n\u001b[0;32m      7\u001b[0m \u001b[0mgroupD\u001b[0m\u001b[1;33m=\u001b[0m\u001b[1;33m[\u001b[0m\u001b[1;33m]\u001b[0m\u001b[1;33m\u001b[0m\u001b[1;33m\u001b[0m\u001b[0m\n\u001b[0;32m      8\u001b[0m \u001b[1;32mfor\u001b[0m \u001b[0mi\u001b[0m \u001b[1;32min\u001b[0m \u001b[1;33m[\u001b[0m\u001b[0mgroupA\u001b[0m\u001b[1;33m,\u001b[0m\u001b[0mgroupB\u001b[0m\u001b[1;33m,\u001b[0m\u001b[0mgroupC\u001b[0m\u001b[1;33m,\u001b[0m\u001b[0mgroupD\u001b[0m\u001b[1;33m]\u001b[0m\u001b[1;33m:\u001b[0m\u001b[1;33m\u001b[0m\u001b[1;33m\u001b[0m\u001b[0m\n\u001b[1;32m----> 9\u001b[1;33m     \u001b[0mitem1A\u001b[0m \u001b[1;33m=\u001b[0m \u001b[0mrandom\u001b[0m\u001b[1;33m.\u001b[0m\u001b[0mchoice\u001b[0m\u001b[1;33m(\u001b[0m\u001b[0mpremership\u001b[0m\u001b[1;33m)\u001b[0m\u001b[1;33m\u001b[0m\u001b[1;33m\u001b[0m\u001b[0m\n\u001b[0m\u001b[0;32m     10\u001b[0m     \u001b[0mi\u001b[0m\u001b[1;33m.\u001b[0m\u001b[0mappend\u001b[0m\u001b[1;33m(\u001b[0m\u001b[0mitem1A\u001b[0m\u001b[1;33m)\u001b[0m\u001b[1;33m\u001b[0m\u001b[1;33m\u001b[0m\u001b[0m\n\u001b[0;32m     11\u001b[0m     \u001b[0mpremership\u001b[0m\u001b[1;33m.\u001b[0m\u001b[0mremove\u001b[0m\u001b[1;33m(\u001b[0m\u001b[0mitem1A\u001b[0m\u001b[1;33m)\u001b[0m\u001b[1;33m\u001b[0m\u001b[1;33m\u001b[0m\u001b[0m\n",
      "\u001b[1;31mNameError\u001b[0m: name 'random' is not defined"
     ]
    }
   ],
   "source": [
    "premership=[\"arsenal\",\"man u\",\"chelsea\",\"liverpool\"]\n",
    "laliga=[\"barcelona\",\"madrid\",\"levante\",\"espanol\"]\n",
    "seriaA=[\"juventus\",\"roma\",\"inter\",\"ac milan\"]\n",
    "groupA=[]\n",
    "groupB=[]\n",
    "groupC=[]\n",
    "groupD=[]\n",
    "for i in [groupA,groupB,groupC,groupD]:\n",
    "    item1A = random.choice(premership)\n",
    "    i.append(item1A)\n",
    "    premership.remove(item1A)\n",
    "    item2A = random.choice(laliga)\n",
    "    i.append(item2A)\n",
    "    laliga.remove(item2A)\n",
    "    item3A = random.choice(seriaA)\n",
    "    i.append(item3A)\n",
    "    seriaA.remove(item3A)\n",
    "    print(i)\n",
    "    \n",
    "\n",
    "    \n",
    "    "
   ]
  },
  {
   "cell_type": "code",
   "execution_count": 37,
   "id": "fad97cdf",
   "metadata": {},
   "outputs": [
    {
     "name": "stdout",
     "output_type": "stream",
     "text": [
      "[]\n",
      "[]\n",
      "[]\n",
      "[]\n"
     ]
    }
   ],
   "source": [
    "\n"
   ]
  },
  {
   "cell_type": "code",
   "execution_count": 2,
   "id": "4ae65ed2",
   "metadata": {},
   "outputs": [
    {
     "ename": "NameError",
     "evalue": "name 'random' is not defined",
     "output_type": "error",
     "traceback": [
      "\u001b[1;31m---------------------------------------------------------------------------\u001b[0m",
      "\u001b[1;31mNameError\u001b[0m                                 Traceback (most recent call last)",
      "\u001b[1;32m<ipython-input-2-f13e0be09b59>\u001b[0m in \u001b[0;36m<module>\u001b[1;34m\u001b[0m\n\u001b[1;32m----> 1\u001b[1;33m \u001b[0mitem1B\u001b[0m \u001b[1;33m=\u001b[0m \u001b[0mrandom\u001b[0m\u001b[1;33m.\u001b[0m\u001b[0mchoice\u001b[0m\u001b[1;33m(\u001b[0m\u001b[0mpremership\u001b[0m\u001b[1;33m)\u001b[0m\u001b[1;33m\u001b[0m\u001b[1;33m\u001b[0m\u001b[0m\n\u001b[0m\u001b[0;32m      2\u001b[0m \u001b[0mgroupB\u001b[0m\u001b[1;33m.\u001b[0m\u001b[0mappend\u001b[0m\u001b[1;33m(\u001b[0m\u001b[0mitem1B\u001b[0m\u001b[1;33m)\u001b[0m\u001b[1;33m\u001b[0m\u001b[1;33m\u001b[0m\u001b[0m\n\u001b[0;32m      3\u001b[0m \u001b[0mpremership\u001b[0m\u001b[1;33m.\u001b[0m\u001b[0mremove\u001b[0m\u001b[1;33m(\u001b[0m\u001b[0mitem1B\u001b[0m\u001b[1;33m)\u001b[0m\u001b[1;33m\u001b[0m\u001b[1;33m\u001b[0m\u001b[0m\n\u001b[0;32m      4\u001b[0m \u001b[0mitem2B\u001b[0m \u001b[1;33m=\u001b[0m \u001b[0mrandom\u001b[0m\u001b[1;33m.\u001b[0m\u001b[0mchoice\u001b[0m\u001b[1;33m(\u001b[0m\u001b[0mlaliga\u001b[0m\u001b[1;33m)\u001b[0m\u001b[1;33m\u001b[0m\u001b[1;33m\u001b[0m\u001b[0m\n\u001b[0;32m      5\u001b[0m \u001b[0mgroupB\u001b[0m\u001b[1;33m.\u001b[0m\u001b[0mappend\u001b[0m\u001b[1;33m(\u001b[0m\u001b[0mitem2B\u001b[0m\u001b[1;33m)\u001b[0m\u001b[1;33m\u001b[0m\u001b[1;33m\u001b[0m\u001b[0m\n",
      "\u001b[1;31mNameError\u001b[0m: name 'random' is not defined"
     ]
    }
   ],
   "source": [
    "item1B = random.choice(premership)\n",
    "groupB.append(item1B)\n",
    "premership.remove(item1B)\n",
    "item2B = random.choice(laliga)\n",
    "groupB.append(item2B)\n",
    "laliga.remove(item2B)\n",
    "item3B = random.choice(seriaA)\n",
    "groupB.append(item3B)\n",
    "seriaA.remove(item3B)\n",
    "item1C = random.choice(premership)\n",
    "groupC.append(item1C)\n",
    "premership.remove(item1C)\n",
    "item2C = random.choice(laliga)\n",
    "groupC.append(item2C)\n",
    "laliga.remove(item2C)\n",
    "item3C = random.choice(seriaA)\n",
    "groupC.append(item3C)\n",
    "seriaA.remove(item3C)\n",
    "item1D = random.choice(premership)\n",
    "groupD.append(item1D)\n",
    "premership.remove(item1D)\n",
    "item2D = random.choice(laliga)\n",
    "groupD.append(item2D)\n",
    "laliga.remove(item2D)\n",
    "item3D = random.choice(seriaA)\n",
    "groupD.append(item3D)\n",
    "seriaA.remove(item3D)\n",
    "print(groupA)\n",
    "print(groupB)\n",
    "print(groupC)\n",
    "print(groupD)\n",
    "print(premership)\n",
    "print(laliga)\n",
    "print(seriaA)\n"
   ]
  }
 ],
 "metadata": {
  "kernelspec": {
   "display_name": "Python 3",
   "language": "python",
   "name": "python3"
  },
  "language_info": {
   "codemirror_mode": {
    "name": "ipython",
    "version": 3
   },
   "file_extension": ".py",
   "mimetype": "text/x-python",
   "name": "python",
   "nbconvert_exporter": "python",
   "pygments_lexer": "ipython3",
   "version": "3.8.8"
  }
 },
 "nbformat": 4,
 "nbformat_minor": 5
}
